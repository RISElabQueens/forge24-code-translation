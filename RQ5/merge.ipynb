{
 "cells": [
  {
   "cell_type": "code",
   "execution_count": 2,
   "metadata": {},
   "outputs": [],
   "source": [
    "import pandas as pd"
   ]
  },
  {
   "cell_type": "code",
   "execution_count": 7,
   "metadata": {},
   "outputs": [],
   "source": [
    "df_gpt4_classic_vanilla = pd.read_excel('/home/forge/manualsamples/gpt4_classic_vanilla.xlsx')\n",
    "df_gpt4_classic_vanilla['name'] = 'GPT 4'\n",
    "df_gpt4_classic_vanilla['prompt'] = 'Vanilla'\n",
    "\n",
    "df_gpt4_control = pd.read_csv('/home/forge/manualsamples/gpt4_control.csv')\n",
    "df_gpt4_control['name'] = 'GPT 4'\n",
    "df_gpt4_control['prompt'] = 'Control'\n",
    "\n",
    "df_gpt35_vanilla = pd.read_csv('/home/forge/manualsamples/gpt35_vanilla_outputs.csv')\n",
    "df_gpt35_vanilla['name'] = 'GPT 3.5'\n",
    "df_gpt35_vanilla['prompt'] = 'Vanilla'\n",
    "\n",
    "df_gpt35_control = pd.read_csv('/home/forge/manualsamples/gpt35_control_outputs.csv')\n",
    "df_gpt35_control['name'] = 'GPT 3.5'\n",
    "df_gpt35_control['prompt'] = 'Control'\n",
    "\n",
    "df_gpt4o_mini_vanilla = pd.read_csv('/home/forge/manualsamples/gpt4o_mini_vanilla_outputs.csv')\n",
    "df_gpt4o_mini_vanilla['name'] = 'GPT 4o mini'\n",
    "df_gpt4o_mini_vanilla['prompt'] = 'Vanilla'\n",
    "\n",
    "df_gpt4o_vanilla = pd.read_excel('/home/forge/manualsamples/gpt4o_vanilla.xlsx')\n",
    "df_gpt4o_vanilla['name'] = 'GPT 4o'\n",
    "df_gpt4o_vanilla['prompt'] = 'Vanilla'\n",
    "\n",
    "df_gemini_15_vanilla = pd.read_excel('/home/forge/manualsamples/gemini_15_vanilla_outputs.xlsx')\n",
    "df_gemini_15_vanilla['name'] = 'Gemini 1.5'\n",
    "df_gemini_15_vanilla['prompt'] = 'Vanilla'\n",
    "\n"
   ]
  },
  {
   "cell_type": "code",
   "execution_count": 8,
   "metadata": {},
   "outputs": [],
   "source": [
    "# Combine all dataframes\n",
    "combined_df = pd.concat([\n",
    "    df_gpt4_classic_vanilla,\n",
    "    df_gpt4_control,\n",
    "    df_gpt35_vanilla,\n",
    "    df_gpt35_control,\n",
    "    df_gpt4o_mini_vanilla,\n",
    "    df_gpt4o_vanilla,\n",
    "    df_gemini_15_vanilla\n",
    "])\n",
    "\n",
    "# Export the combined dataframe to an Excel file\n",
    "combined_df.to_excel('/home/forge/manualsamples/combined_output.xlsx', index=False)"
   ]
  }
 ],
 "metadata": {
  "kernelspec": {
   "display_name": "Python (expandclient)",
   "language": "python",
   "name": "expandclient"
  },
  "language_info": {
   "codemirror_mode": {
    "name": "ipython",
    "version": 3
   },
   "file_extension": ".py",
   "mimetype": "text/x-python",
   "name": "python",
   "nbconvert_exporter": "python",
   "pygments_lexer": "ipython3",
   "version": "3.9.19"
  }
 },
 "nbformat": 4,
 "nbformat_minor": 2
}
