{
 "cells": [
  {
   "cell_type": "code",
   "execution_count": 1,
   "metadata": {},
   "outputs": [],
   "source": [
    "import pandas as pd\n",
    "import pickle\n",
    "import os\n",
    "import hashlib\n",
    "from collections import defaultdict\n",
    "from tqdm import tqdm\n",
    "import xxhash\n",
    "import re"
   ]
  },
  {
   "cell_type": "code",
   "execution_count": 2,
   "metadata": {},
   "outputs": [],
   "source": [
    "def re_encode(df):\n",
    "    df['input_code'] = df['input_code'].astype(str)\n",
    "    df['input_code'] = df['input_code'].apply(lambda x: x.encode('latin1').decode('utf-8'))\n",
    "    return df.copy()"
   ]
  },
  {
   "cell_type": "code",
   "execution_count": 3,
   "metadata": {},
   "outputs": [],
   "source": [
    "df_vre = re_encode(pd.read_csv('forge24-code-translation/RQ3/inference_output_11_models_vre.csv'))\n",
    "df_cre = re_encode(pd.read_csv('forge24-code-translation/RQ3/inference_output_11_models_cre.csv'))\n",
    "df_vde = re_encode(pd.read_csv('forge24-code-translation/RQ3/inference_output_11_models_vde.csv'))"
   ]
  },
  {
   "cell_type": "code",
   "execution_count": 26,
   "metadata": {},
   "outputs": [
    {
     "data": {
      "text/plain": [
       "(42020, 14)"
      ]
     },
     "execution_count": 26,
     "metadata": {},
     "output_type": "execute_result"
    }
   ],
   "source": [
    "df_vre.shape"
   ]
  },
  {
   "cell_type": "code",
   "execution_count": 4,
   "metadata": {},
   "outputs": [],
   "source": [
    "def hash_string(input_string):\n",
    "    trimmed = input_string.strip()\n",
    "    input_bytes = trimmed.encode('utf-8')\n",
    "    hash_object = xxhash.xxh64()\n",
    "    hash_object.update(input_bytes)\n",
    "    return hash_object.hexdigest()"
   ]
  },
  {
   "cell_type": "code",
   "execution_count": 5,
   "metadata": {},
   "outputs": [],
   "source": [
    "def hash_file(file_path):\n",
    "    \"\"\"Compute the xxHash64 hash of the file after trimming spaces\"\"\"\n",
    "    with open(file_path, \"r\") as f:\n",
    "        return hash_string(f.read())\n",
    "        \n",
    "\n",
    "def explore_and_hash(root_dir):\n",
    "    \"\"\"Recursively explore folders and hash the content of files\"\"\"\n",
    "    file_hashes = defaultdict(list)\n",
    "    \n",
    "    # First, count the total number of files to hash\n",
    "    total_files = sum(len(files) for _, _, files in os.walk(root_dir))\n",
    "    \n",
    "    # Use tqdm for the progress bar\n",
    "    with tqdm(total=total_files, desc=\"Hashing files\") as pbar:\n",
    "        for dirpath, _, filenames in os.walk(root_dir):\n",
    "            for filename in filenames:\n",
    "                if filename.endswith(('.c', '.java', '.cpp', '.py', '.go')):\n",
    "                    file_path = os.path.join(dirpath, filename)\n",
    "                    file_hash = hash_file(file_path)\n",
    "                    file_hashes[file_hash].append(file_path)\n",
    "                pbar.update(1)\n",
    "    \n",
    "    return file_hashes"
   ]
  },
  {
   "cell_type": "code",
   "execution_count": 6,
   "metadata": {},
   "outputs": [],
   "source": [
    "def save_to_pickle(data, filename):\n",
    "    \"\"\"Save the dictionary to a pickle file.\"\"\"\n",
    "    with open(filename, 'wb') as f:\n",
    "        pickle.dump(data, f)"
   ]
  },
  {
   "cell_type": "code",
   "execution_count": 7,
   "metadata": {},
   "outputs": [],
   "source": [
    "def read_from_pickle(filename):\n",
    "    \"\"\"Read data from a pickle file.\"\"\"\n",
    "    with open(filename, 'rb') as f:\n",
    "        data = pickle.load(f)\n",
    "    return data"
   ]
  },
  {
   "cell_type": "raw",
   "metadata": {
    "vscode": {
     "languageId": "raw"
    }
   },
   "source": [
    "# Set the root directory to explore\n",
    "root_directory = \"Project_CodeNet\"\n",
    "hashes_dict = explore_and_hash(root_directory)\n",
    "\n",
    "pickle_file = \"file_hashes_strip.pkl\"\n",
    "save_to_pickle(hashes_dict, pickle_file)"
   ]
  },
  {
   "cell_type": "code",
   "execution_count": 8,
   "metadata": {},
   "outputs": [],
   "source": [
    "# Save the hashes_dict to a pickle file\n",
    "pickle_file = \"file_hashes_strip.pkl\"\n",
    "hashes_dict = read_from_pickle(pickle_file)"
   ]
  },
  {
   "cell_type": "code",
   "execution_count": 9,
   "metadata": {},
   "outputs": [],
   "source": [
    "def extract_problem_and_extension(path):\n",
    "    # Regular expression to match 'p' followed by digits and capture the extension after the last dot\n",
    "    match = re.search(r'/p\\d+/.*\\.(\\w+)$', path)\n",
    "    if match:\n",
    "        # Extract the 'p' code and extension\n",
    "        code = re.search(r'p\\d+', path).group(0)\n",
    "        extension = match.group(1)\n",
    "        return code, extension\n",
    "    raise Exception('Cpde should not reach this point')"
   ]
  },
  {
   "cell_type": "code",
   "execution_count": 12,
   "metadata": {},
   "outputs": [],
   "source": [
    "def match_problems(df, hashes_dict):\n",
    "    for index, row in tqdm(df.iterrows(), total=df.shape[0]):\n",
    "        prog = row['input_code']\n",
    "        hash_val = hash_string(prog.strip())\n",
    "        df.at[index, 'input_code_hash'] = str(hash_val)\n",
    "\n",
    "        if hash_val in hashes_dict.keys():\n",
    "            path = hashes_dict[hash_val][0]\n",
    "            problem_id, extension = extract_problem_and_extension(path)\n",
    "            df.at[index, 'problem_id'] = problem_id\n",
    "    return df"
   ]
  },
  {
   "cell_type": "code",
   "execution_count": 13,
   "metadata": {},
   "outputs": [
    {
     "name": "stderr",
     "output_type": "stream",
     "text": [
      "100%|██████████| 42020/42020 [00:03<00:00, 11753.30it/s]\n",
      "100%|██████████| 42020/42020 [00:03<00:00, 11960.71it/s]\n",
      "100%|██████████| 42020/42020 [00:03<00:00, 12429.00it/s]\n"
     ]
    }
   ],
   "source": [
    "df_vre_matched = match_problems(df_vre, hashes_dict)\n",
    "df_vde_matched = match_problems(df_vde, hashes_dict)\n",
    "df_cre_matched = match_problems(df_cre, hashes_dict)"
   ]
  },
  {
   "cell_type": "code",
   "execution_count": 14,
   "metadata": {},
   "outputs": [],
   "source": [
    "def assert_all_problems_found(df):\n",
    "    assert df[df.problem_id.isna()].shape[0] == 0"
   ]
  },
  {
   "cell_type": "code",
   "execution_count": 15,
   "metadata": {},
   "outputs": [],
   "source": [
    "assert_all_problems_found(df_vre_matched)\n",
    "assert_all_problems_found(df_vde_matched)\n",
    "assert_all_problems_found(df_cre_matched)"
   ]
  },
  {
   "cell_type": "code",
   "execution_count": 16,
   "metadata": {},
   "outputs": [],
   "source": [
    "languages_codenet = ['Python', 'Java', 'C++', 'Go', 'C']\n",
    "\n",
    "extension_map = {\n",
    "    'Python' : 'py',\n",
    "    'Java' : 'java',\n",
    "    'C++' : 'cpp',\n",
    "    'Go' : 'go',\n",
    "    'C' : 'c',\n",
    "}"
   ]
  },
  {
   "cell_type": "code",
   "execution_count": 17,
   "metadata": {},
   "outputs": [],
   "source": [
    "def get_gt(df):\n",
    "    entries = []\n",
    "    current_gt = {}\n",
    "\n",
    "    for problemid in tqdm(df.problem_id.unique()): \n",
    "        #We read the metadata for this problem\n",
    "        metadata_path = f'./Project_CodeNet/metadata/{problemid}.csv'\n",
    "        df = pd.read_csv(metadata_path)\n",
    "        df = df[(df.status == 'Accepted')]\n",
    "        skipit = False\n",
    "        local_entries = []\n",
    "        \n",
    "        if df.empty == True:\n",
    "            continue\n",
    "\n",
    "        obj = {}\n",
    "        obj['problem_id'] = problemid\n",
    "\n",
    "        for lang in languages_codenet:\n",
    "            dflang = df[(df.language == lang)]\n",
    "            \n",
    "            #We keep programs that are less than 1kb (as a proxy to token length. This is to ensure we don't have problems with context length)\n",
    "            #dflang = dflang[(dflang.code_size < 1024)]\n",
    "            \n",
    "            if dflang.empty:\n",
    "                #No parallel data in this language. Moving on to the next problem\n",
    "                skipit = True\n",
    "                break\n",
    "            \n",
    "            #Sample one random solutions to this problem, from all the solutions\n",
    "            row = dflang.sample(n=1, random_state=1).iloc[0]\n",
    "            submission_id = row['submission_id']\n",
    "            \n",
    "            if (problemid, lang) in current_gt.keys():\n",
    "                obj[f'{lang}_gt'] = current_gt[(problemid, lang)]\n",
    "            else:\n",
    "                #Get the content from the submission\n",
    "                with open(f'./Project_CodeNet/data/{problemid}/{lang}/{submission_id}.{extension_map[lang]}') as f:\n",
    "                    content = f.read()\n",
    "                    obj[f'{lang}_gt'] = content\n",
    "                    current_gt[(problemid, lang)] = content\n",
    "\n",
    "        if not skipit:\n",
    "            entries.append(obj)\n",
    "\n",
    "    return pd.DataFrame(entries)"
   ]
  },
  {
   "cell_type": "code",
   "execution_count": 18,
   "metadata": {},
   "outputs": [
    {
     "name": "stderr",
     "output_type": "stream",
     "text": [
      "100%|██████████| 586/586 [00:12<00:00, 47.81it/s]\n",
      "100%|██████████| 586/586 [00:12<00:00, 47.88it/s]\n",
      "100%|██████████| 586/586 [00:12<00:00, 47.98it/s]\n"
     ]
    }
   ],
   "source": [
    "gt_vre = get_gt(df_vre_matched)\n",
    "gt_cre = get_gt(df_cre_matched)\n",
    "gt_vde = get_gt(df_vde_matched)"
   ]
  },
  {
   "cell_type": "code",
   "execution_count": 23,
   "metadata": {},
   "outputs": [
    {
     "data": {
      "text/plain": [
       "546"
      ]
     },
     "execution_count": 23,
     "metadata": {},
     "output_type": "execute_result"
    }
   ],
   "source": [
    "len(gt_vre['problem_id'].unique()) "
   ]
  },
  {
   "cell_type": "code",
   "execution_count": 24,
   "metadata": {},
   "outputs": [
    {
     "data": {
      "text/plain": [
       "586"
      ]
     },
     "execution_count": 24,
     "metadata": {},
     "output_type": "execute_result"
    }
   ],
   "source": [
    "len(df_vre_matched['problem_id'].unique())"
   ]
  },
  {
   "cell_type": "code",
   "execution_count": 19,
   "metadata": {},
   "outputs": [],
   "source": [
    "vre_perc = len(gt_vre['problem_id'].unique()) /  len(df_vre_matched['problem_id'].unique()) * 100\n",
    "vde_perc = len(gt_vde['problem_id'].unique()) /  len(df_vde_matched['problem_id'].unique()) * 100\n",
    "cre_perc = len(gt_cre['problem_id'].unique()) /  len(df_cre_matched['problem_id'].unique()) * 100"
   ]
  },
  {
   "cell_type": "code",
   "execution_count": 20,
   "metadata": {},
   "outputs": [
    {
     "name": "stdout",
     "output_type": "stream",
     "text": [
      "93.1740614334471\n",
      "93.1740614334471\n",
      "93.1740614334471\n"
     ]
    }
   ],
   "source": [
    "#Verify percentage of problems that have paralell data in all PLs\n",
    "print(vre_perc)\n",
    "print(vde_perc)\n",
    "print(cre_perc)"
   ]
  },
  {
   "cell_type": "code",
   "execution_count": 28,
   "metadata": {},
   "outputs": [
    {
     "data": {
      "text/html": [
       "<div>\n",
       "<style scoped>\n",
       "    .dataframe tbody tr th:only-of-type {\n",
       "        vertical-align: middle;\n",
       "    }\n",
       "\n",
       "    .dataframe tbody tr th {\n",
       "        vertical-align: top;\n",
       "    }\n",
       "\n",
       "    .dataframe thead th {\n",
       "        text-align: right;\n",
       "    }\n",
       "</style>\n",
       "<table border=\"1\" class=\"dataframe\">\n",
       "  <thead>\n",
       "    <tr style=\"text-align: right;\">\n",
       "      <th></th>\n",
       "      <th>problem_id</th>\n",
       "      <th>Python_gt</th>\n",
       "      <th>Java_gt</th>\n",
       "      <th>C++_gt</th>\n",
       "      <th>Go_gt</th>\n",
       "      <th>C_gt</th>\n",
       "    </tr>\n",
       "  </thead>\n",
       "  <tbody>\n",
       "    <tr>\n",
       "      <th>0</th>\n",
       "      <td>p02817</td>\n",
       "      <td>str = input()\\nstr = str.split()\\nstr = str[1]...</td>\n",
       "      <td>import java.util.Scanner;\\n\\npublic class Main...</td>\n",
       "      <td>#include&lt;stdio.h&gt;\\n\\nint main (){\\n\\tchar x[10...</td>\n",
       "      <td>// Package main provides ...\\npackage main\\n\\n...</td>\n",
       "      <td>#include &lt;stdio.h&gt;\\n#include &lt;string.h&gt;\\nint m...</td>\n",
       "    </tr>\n",
       "    <tr>\n",
       "      <th>1</th>\n",
       "      <td>p03635</td>\n",
       "      <td>A,B=map(int, input().split())\\nprint((A-1)*(B-1))</td>\n",
       "      <td>import java.util.*;\\nimport java.lang.*;\\n\\npu...</td>\n",
       "      <td>#include&lt;bits/stdc++.h&gt;\\nusing namespace std;\\...</td>\n",
       "      <td>package main\\n\\nimport \"fmt\"\\n\\nfunc main(){\\n...</td>\n",
       "      <td>#include &lt;stdio.h&gt;\\n#include &lt;stdlib.h&gt;\\n#incl...</td>\n",
       "    </tr>\n",
       "    <tr>\n",
       "      <th>2</th>\n",
       "      <td>p03284</td>\n",
       "      <td>n, k = map(int, input().split())\\nif k == 1:\\n...</td>\n",
       "      <td>import java.util.Scanner;\\n\\npublic class Main...</td>\n",
       "      <td>#include &lt;iostream&gt;\\n#include &lt;vector&gt;\\n#inclu...</td>\n",
       "      <td>package main\\n\\nimport (\\n\\t\"fmt\"\\n)\\n\\nfunc m...</td>\n",
       "      <td>#include &lt;stdio.h&gt;\\n\\n\\nint main(){\\n    int n...</td>\n",
       "    </tr>\n",
       "    <tr>\n",
       "      <th>3</th>\n",
       "      <td>p03023</td>\n",
       "      <td>n = int(input())\\nprint(180*(n-2))</td>\n",
       "      <td>import java.util.Scanner;\\nclass Main{\\npublic...</td>\n",
       "      <td>#include &lt;iostream&gt;\\n#include &lt;algorithm&gt;\\n#in...</td>\n",
       "      <td>package main\\n\\nimport (\\n  \"fmt\"\\n)\\n\\nfunc m...</td>\n",
       "      <td>#include &lt;stdio.h&gt;\\nint main(void){\\n    int N...</td>\n",
       "    </tr>\n",
       "    <tr>\n",
       "      <th>4</th>\n",
       "      <td>p02957</td>\n",
       "      <td>def main():\\n    a, b = map(int, input().split...</td>\n",
       "      <td>import java.util.*;\\n\\nclass Main {\\n    publi...</td>\n",
       "      <td>#include&lt;bits/stdc++.h&gt; //ABC 135_a \\nusing na...</td>\n",
       "      <td>package main\\n\\nimport (\\n    \"fmt\"\\n)\\n\\nfunc...</td>\n",
       "      <td>#include &lt;stdio.h&gt;\\n\\nint main()\\n{\\n  int i,t...</td>\n",
       "    </tr>\n",
       "    <tr>\n",
       "      <th>...</th>\n",
       "      <td>...</td>\n",
       "      <td>...</td>\n",
       "      <td>...</td>\n",
       "      <td>...</td>\n",
       "      <td>...</td>\n",
       "      <td>...</td>\n",
       "    </tr>\n",
       "    <tr>\n",
       "      <th>541</th>\n",
       "      <td>p03386</td>\n",
       "      <td>a,b,k = map(int, input().split())\\nfor i in ra...</td>\n",
       "      <td>import java.util.*;\\nimport java.io.*;\\nimport...</td>\n",
       "      <td>#include&lt;bits/stdc++.h&gt;\\nusing namespace std;\\...</td>\n",
       "      <td>// Package main provides\\n//\\n// File:  b.go\\n...</td>\n",
       "      <td>#include &lt;stdio.h&gt;\\n\\nint main(void){\\n  long ...</td>\n",
       "    </tr>\n",
       "    <tr>\n",
       "      <th>542</th>\n",
       "      <td>p03148</td>\n",
       "      <td>#!/usr/bin/env python3\\nN, K = map(int, input(...</td>\n",
       "      <td>import java.io.BufferedReader;\\nimport java.io...</td>\n",
       "      <td>#include &lt;bits/stdc++.h&gt;\\nusing namespace std;...</td>\n",
       "      <td>package main\\n\\nimport (\\n\\t\"bufio\"\\n\\t\"fmt\"\\n...</td>\n",
       "      <td>#include &lt;stdio.h&gt;\\n#include &lt;string.h&gt;\\n#incl...</td>\n",
       "    </tr>\n",
       "    <tr>\n",
       "      <th>543</th>\n",
       "      <td>p03567</td>\n",
       "      <td>s = input()\\nif \"AC\" in s:\\n  print(\"Yes\")\\nel...</td>\n",
       "      <td>import java.util.Scanner;\\n\\npublic class Main...</td>\n",
       "      <td>#include &lt;iostream&gt;\\n#include &lt;string&gt;\\nusing ...</td>\n",
       "      <td>package main\\n\\nimport (\\n\\t\"bufio\"\\n\\t\"fmt\"\\n...</td>\n",
       "      <td>#include &lt;stdio.h&gt;\\n#include &lt;string.h&gt;\\n#incl...</td>\n",
       "    </tr>\n",
       "    <tr>\n",
       "      <th>544</th>\n",
       "      <td>p03096</td>\n",
       "      <td>N = int(input())\\nC = [int(input()) for _ in r...</td>\n",
       "      <td>import java.io.BufferedReader;\\nimport java.io...</td>\n",
       "      <td>#include &lt;iostream&gt;\\n#include &lt;string&gt;\\n#inclu...</td>\n",
       "      <td>package main\\n\\nimport (\\n\\t\"bufio\"\\n\\t\"fmt\"\\n...</td>\n",
       "      <td>#include&lt;stdio.h&gt;\\n#define MOD 1000000007\\n#de...</td>\n",
       "    </tr>\n",
       "    <tr>\n",
       "      <th>545</th>\n",
       "      <td>p03161</td>\n",
       "      <td>#!/usr/bin/env python3\\n# -*- coding:utf-8 -*-...</td>\n",
       "      <td>import java.io.*;\\n\\npublic class Main {\\n\\tpu...</td>\n",
       "      <td>#include&lt;bits/stdc++.h&gt;\\nusing namespace std;\\...</td>\n",
       "      <td>package main\\nimport (\\n  \"fmt\"\\n  \"math\"\\n)\\n...</td>\n",
       "      <td>#include&lt;stdio.h&gt;\\n#include&lt;stdlib.h&gt;\\n#includ...</td>\n",
       "    </tr>\n",
       "  </tbody>\n",
       "</table>\n",
       "<p>546 rows × 6 columns</p>\n",
       "</div>"
      ],
      "text/plain": [
       "    problem_id                                          Python_gt  \\\n",
       "0       p02817  str = input()\\nstr = str.split()\\nstr = str[1]...   \n",
       "1       p03635  A,B=map(int, input().split())\\nprint((A-1)*(B-1))   \n",
       "2       p03284  n, k = map(int, input().split())\\nif k == 1:\\n...   \n",
       "3       p03023                 n = int(input())\\nprint(180*(n-2))   \n",
       "4       p02957  def main():\\n    a, b = map(int, input().split...   \n",
       "..         ...                                                ...   \n",
       "541     p03386  a,b,k = map(int, input().split())\\nfor i in ra...   \n",
       "542     p03148  #!/usr/bin/env python3\\nN, K = map(int, input(...   \n",
       "543     p03567  s = input()\\nif \"AC\" in s:\\n  print(\"Yes\")\\nel...   \n",
       "544     p03096  N = int(input())\\nC = [int(input()) for _ in r...   \n",
       "545     p03161  #!/usr/bin/env python3\\n# -*- coding:utf-8 -*-...   \n",
       "\n",
       "                                               Java_gt  \\\n",
       "0    import java.util.Scanner;\\n\\npublic class Main...   \n",
       "1    import java.util.*;\\nimport java.lang.*;\\n\\npu...   \n",
       "2    import java.util.Scanner;\\n\\npublic class Main...   \n",
       "3    import java.util.Scanner;\\nclass Main{\\npublic...   \n",
       "4    import java.util.*;\\n\\nclass Main {\\n    publi...   \n",
       "..                                                 ...   \n",
       "541  import java.util.*;\\nimport java.io.*;\\nimport...   \n",
       "542  import java.io.BufferedReader;\\nimport java.io...   \n",
       "543  import java.util.Scanner;\\n\\npublic class Main...   \n",
       "544  import java.io.BufferedReader;\\nimport java.io...   \n",
       "545  import java.io.*;\\n\\npublic class Main {\\n\\tpu...   \n",
       "\n",
       "                                                C++_gt  \\\n",
       "0    #include<stdio.h>\\n\\nint main (){\\n\\tchar x[10...   \n",
       "1    #include<bits/stdc++.h>\\nusing namespace std;\\...   \n",
       "2    #include <iostream>\\n#include <vector>\\n#inclu...   \n",
       "3    #include <iostream>\\n#include <algorithm>\\n#in...   \n",
       "4    #include<bits/stdc++.h> //ABC 135_a \\nusing na...   \n",
       "..                                                 ...   \n",
       "541  #include<bits/stdc++.h>\\nusing namespace std;\\...   \n",
       "542  #include <bits/stdc++.h>\\nusing namespace std;...   \n",
       "543  #include <iostream>\\n#include <string>\\nusing ...   \n",
       "544  #include <iostream>\\n#include <string>\\n#inclu...   \n",
       "545  #include<bits/stdc++.h>\\nusing namespace std;\\...   \n",
       "\n",
       "                                                 Go_gt  \\\n",
       "0    // Package main provides ...\\npackage main\\n\\n...   \n",
       "1    package main\\n\\nimport \"fmt\"\\n\\nfunc main(){\\n...   \n",
       "2    package main\\n\\nimport (\\n\\t\"fmt\"\\n)\\n\\nfunc m...   \n",
       "3    package main\\n\\nimport (\\n  \"fmt\"\\n)\\n\\nfunc m...   \n",
       "4    package main\\n\\nimport (\\n    \"fmt\"\\n)\\n\\nfunc...   \n",
       "..                                                 ...   \n",
       "541  // Package main provides\\n//\\n// File:  b.go\\n...   \n",
       "542  package main\\n\\nimport (\\n\\t\"bufio\"\\n\\t\"fmt\"\\n...   \n",
       "543  package main\\n\\nimport (\\n\\t\"bufio\"\\n\\t\"fmt\"\\n...   \n",
       "544  package main\\n\\nimport (\\n\\t\"bufio\"\\n\\t\"fmt\"\\n...   \n",
       "545  package main\\nimport (\\n  \"fmt\"\\n  \"math\"\\n)\\n...   \n",
       "\n",
       "                                                  C_gt  \n",
       "0    #include <stdio.h>\\n#include <string.h>\\nint m...  \n",
       "1    #include <stdio.h>\\n#include <stdlib.h>\\n#incl...  \n",
       "2    #include <stdio.h>\\n\\n\\nint main(){\\n    int n...  \n",
       "3    #include <stdio.h>\\nint main(void){\\n    int N...  \n",
       "4    #include <stdio.h>\\n\\nint main()\\n{\\n  int i,t...  \n",
       "..                                                 ...  \n",
       "541  #include <stdio.h>\\n\\nint main(void){\\n  long ...  \n",
       "542  #include <stdio.h>\\n#include <string.h>\\n#incl...  \n",
       "543  #include <stdio.h>\\n#include <string.h>\\n#incl...  \n",
       "544  #include<stdio.h>\\n#define MOD 1000000007\\n#de...  \n",
       "545  #include<stdio.h>\\n#include<stdlib.h>\\n#includ...  \n",
       "\n",
       "[546 rows x 6 columns]"
      ]
     },
     "execution_count": 28,
     "metadata": {},
     "output_type": "execute_result"
    }
   ],
   "source": [
    "gt_vre"
   ]
  },
  {
   "cell_type": "code",
   "execution_count": 21,
   "metadata": {},
   "outputs": [],
   "source": [
    "df_vre_extended = pd.merge(df_vre_matched, gt_vre, on='problem_id', how='inner')\n",
    "df_vde_extended = pd.merge(df_vde_matched, gt_vde, on='problem_id', how='inner')\n",
    "df_cre_extended = pd.merge(df_cre_matched, gt_cre, on='problem_id', how='inner')"
   ]
  },
  {
   "cell_type": "code",
   "execution_count": 29,
   "metadata": {},
   "outputs": [
    {
     "data": {
      "text/plain": [
       "(40227, 19)"
      ]
     },
     "execution_count": 29,
     "metadata": {},
     "output_type": "execute_result"
    }
   ],
   "source": [
    "df_vre_extended.shape"
   ]
  },
  {
   "cell_type": "code",
   "execution_count": 31,
   "metadata": {},
   "outputs": [
    {
     "data": {
      "text/plain": [
       "(40227, 19)"
      ]
     },
     "execution_count": 31,
     "metadata": {},
     "output_type": "execute_result"
    }
   ],
   "source": [
    "df_vde_extended.shape"
   ]
  },
  {
   "cell_type": "code",
   "execution_count": 32,
   "metadata": {},
   "outputs": [
    {
     "data": {
      "text/plain": [
       "(40227, 19)"
      ]
     },
     "execution_count": 32,
     "metadata": {},
     "output_type": "execute_result"
    }
   ],
   "source": [
    "df_cre_extended.shape"
   ]
  },
  {
   "cell_type": "code",
   "execution_count": 30,
   "metadata": {},
   "outputs": [
    {
     "data": {
      "text/plain": [
       "3657.0"
      ]
     },
     "execution_count": 30,
     "metadata": {},
     "output_type": "execute_result"
    }
   ],
   "source": [
    "40227 / 11"
   ]
  },
  {
   "cell_type": "code",
   "execution_count": 22,
   "metadata": {},
   "outputs": [],
   "source": [
    "df_vre_extended.to_json('forge24-code-translation/RQ4/inference_output_11_models_vre_extended.json', orient='records', lines=True)\n",
    "df_vde_extended.to_json('forge24-code-translation/RQ4/inference_output_11_models_vde_extended.json', orient='records', lines=True)\n",
    "df_cre_extended.to_json('forge24-code-translation/RQ4/inference_output_11_models_cre_extended.json', orient='records', lines=True)"
   ]
  }
 ],
 "metadata": {
  "kernelspec": {
   "display_name": "Python (expandclient)",
   "language": "python",
   "name": "expandclient"
  },
  "language_info": {
   "codemirror_mode": {
    "name": "ipython",
    "version": 3
   },
   "file_extension": ".py",
   "mimetype": "text/x-python",
   "name": "python",
   "nbconvert_exporter": "python",
   "pygments_lexer": "ipython3",
   "version": "3.9.19"
  }
 },
 "nbformat": 4,
 "nbformat_minor": 2
}
