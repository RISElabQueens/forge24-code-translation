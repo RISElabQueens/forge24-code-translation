{
 "cells": [
  {
   "cell_type": "code",
   "execution_count": 14,
   "id": "1b20b727",
   "metadata": {},
   "outputs": [],
   "source": [
    "import pandas as pd\n",
    "from tqdm.auto import tqdm\n",
    "from transformers import AutoTokenizer\n",
    "import numpy as np\n",
    "import matplotlib.pyplot as plt"
   ]
  },
  {
   "cell_type": "markdown",
   "id": "8070a2cd",
   "metadata": {},
   "source": [
    "## Token Count and Dataset Processing\n",
    "This notebook showcases how we obtained the token count of the programs on the original (before cut-off) dataset (from Pan et al) and how we filter-out entries that are above the cut-off"
   ]
  },
  {
   "cell_type": "code",
   "execution_count": 15,
   "id": "c1261bf5",
   "metadata": {},
   "outputs": [],
   "source": [
    "model_list = [\n",
    "    'WizardLM/WizardCoder-1B-V1.0',\n",
    "    'WizardLM/WizardCoder-3B-V1.0',\n",
    "    'WizardLM/WizardCoder-Python-7B-V1.0',\n",
    "    'WizardLM/WizardCoder-Python-13B-V1.0',\n",
    "    'WizardLM/WizardCoder-Python-34B-V1.0',\n",
    "    'ise-uiuc/Magicoder-S-CL-7B',\n",
    "    'ise-uiuc/Magicoder-CL-7B',\n",
    "    'mistralai/Mixtral-8x7B-Instruct-v0.1',\n",
    "    'codellama/CodeLlama-7b-Instruct-hf',\n",
    "    'codellama/CodeLlama-13b-Instruct-hf',\n",
    "    'codellama/CodeLlama-34b-Instruct-hf'\n",
    "]"
   ]
  },
  {
   "cell_type": "code",
   "execution_count": 16,
   "id": "76eb92f5",
   "metadata": {},
   "outputs": [],
   "source": [
    "#This is the original dataset before processing\n",
    "original_df = pd.read_csv('./original_dataset_before_processing.csv')"
   ]
  },
  {
   "cell_type": "code",
   "execution_count": 17,
   "id": "aa32b1b6",
   "metadata": {},
   "outputs": [
    {
     "data": {
      "text/plain": [
       "(4000, 6)"
      ]
     },
     "execution_count": 17,
     "metadata": {},
     "output_type": "execute_result"
    }
   ],
   "source": [
    "original_df.shape"
   ]
  },
  {
   "cell_type": "code",
   "execution_count": 18,
   "id": "80e3b189",
   "metadata": {},
   "outputs": [
    {
     "data": {
      "text/html": [
       "<div>\n",
       "<style scoped>\n",
       "    .dataframe tbody tr th:only-of-type {\n",
       "        vertical-align: middle;\n",
       "    }\n",
       "\n",
       "    .dataframe tbody tr th {\n",
       "        vertical-align: top;\n",
       "    }\n",
       "\n",
       "    .dataframe thead th {\n",
       "        text-align: right;\n",
       "    }\n",
       "</style>\n",
       "<table border=\"1\" class=\"dataframe\">\n",
       "  <thead>\n",
       "    <tr style=\"text-align: right;\">\n",
       "      <th></th>\n",
       "      <th>sample_id</th>\n",
       "      <th>input_code</th>\n",
       "      <th>input_lang</th>\n",
       "      <th>desired_output_lang</th>\n",
       "      <th>test_case_input_data</th>\n",
       "      <th>test_case_expected_output</th>\n",
       "    </tr>\n",
       "  </thead>\n",
       "  <tbody>\n",
       "    <tr>\n",
       "      <th>0</th>\n",
       "      <td>58618</td>\n",
       "      <td>#include &lt;iostream&gt;\\n#include &lt;cstdio&gt;\\n\\nusin...</td>\n",
       "      <td>C++</td>\n",
       "      <td>Java</td>\n",
       "      <td>8 10\\n</td>\n",
       "      <td>00000000000000000000000000001000\\n000000000000...</td>\n",
       "    </tr>\n",
       "    <tr>\n",
       "      <th>1</th>\n",
       "      <td>58619</td>\n",
       "      <td>#include &lt;iostream&gt;\\n#include &lt;vector&gt;\\n\\nusin...</td>\n",
       "      <td>C++</td>\n",
       "      <td>Java</td>\n",
       "      <td>3 6\\n3 4 5\\n</td>\n",
       "      <td>2\\n</td>\n",
       "    </tr>\n",
       "    <tr>\n",
       "      <th>2</th>\n",
       "      <td>58620</td>\n",
       "      <td>#include &lt;iostream&gt;\\n#include&lt;algorithm&gt;\\n#inc...</td>\n",
       "      <td>C++</td>\n",
       "      <td>Java</td>\n",
       "      <td>3\\n10 2 5\\n6 3 4\\n</td>\n",
       "      <td>5\\n</td>\n",
       "    </tr>\n",
       "    <tr>\n",
       "      <th>3</th>\n",
       "      <td>58621</td>\n",
       "      <td>#include&lt;iostream&gt;\\n#include&lt;iomanip&gt;\\n#includ...</td>\n",
       "      <td>C++</td>\n",
       "      <td>Java</td>\n",
       "      <td>10\\n</td>\n",
       "      <td>1\\n2\\n3\\n4\\n5\\n6\\n7\\n8\\n9\\n19\\n</td>\n",
       "    </tr>\n",
       "    <tr>\n",
       "      <th>4</th>\n",
       "      <td>58622</td>\n",
       "      <td>#include &lt;iostream&gt;\\n#include &lt;algorithm&gt;\\nusi...</td>\n",
       "      <td>C++</td>\n",
       "      <td>Java</td>\n",
       "      <td>4\\nwest\\neast\\nwait\\n</td>\n",
       "      <td>3\\n</td>\n",
       "    </tr>\n",
       "  </tbody>\n",
       "</table>\n",
       "</div>"
      ],
      "text/plain": [
       "   sample_id                                         input_code input_lang  \\\n",
       "0      58618  #include <iostream>\\n#include <cstdio>\\n\\nusin...        C++   \n",
       "1      58619  #include <iostream>\\n#include <vector>\\n\\nusin...        C++   \n",
       "2      58620  #include <iostream>\\n#include<algorithm>\\n#inc...        C++   \n",
       "3      58621  #include<iostream>\\n#include<iomanip>\\n#includ...        C++   \n",
       "4      58622  #include <iostream>\\n#include <algorithm>\\nusi...        C++   \n",
       "\n",
       "  desired_output_lang   test_case_input_data  \\\n",
       "0                Java                 8 10\\n   \n",
       "1                Java           3 6\\n3 4 5\\n   \n",
       "2                Java     3\\n10 2 5\\n6 3 4\\n   \n",
       "3                Java                   10\\n   \n",
       "4                Java  4\\nwest\\neast\\nwait\\n   \n",
       "\n",
       "                           test_case_expected_output  \n",
       "0  00000000000000000000000000001000\\n000000000000...  \n",
       "1                                                2\\n  \n",
       "2                                                5\\n  \n",
       "3                    1\\n2\\n3\\n4\\n5\\n6\\n7\\n8\\n9\\n19\\n  \n",
       "4                                                3\\n  "
      ]
     },
     "execution_count": 18,
     "metadata": {},
     "output_type": "execute_result"
    }
   ],
   "source": [
    "original_df.head()"
   ]
  },
  {
   "cell_type": "code",
   "execution_count": 19,
   "id": "5c0227c7",
   "metadata": {},
   "outputs": [],
   "source": [
    "def keep_samples_below_cutoff(df, models_tokens_samples, cutoff):\n",
    "    total_models = len(models_tokens_samples)\n",
    "    fit_samples = []\n",
    "    \n",
    "    for i, row in df.iterrows():\n",
    "        sample_id = row.sample_id\n",
    "        below_cutoff = 0\n",
    "        \n",
    "        for sample_length in models_tokens_samples:\n",
    "            token_length = sample_length[sample_id]\n",
    "            if token_length < cutoff:\n",
    "                below_cutoff+=1\n",
    "        \n",
    "        #This sample fits the cutoff for all the models\n",
    "        if below_cutoff == total_models:\n",
    "            fit_samples.append(row)\n",
    "            \n",
    "    return pd.DataFrame(fit_samples)"
   ]
  },
  {
   "cell_type": "code",
   "execution_count": 20,
   "id": "d519dff2",
   "metadata": {},
   "outputs": [],
   "source": [
    "def count_tokens_for_model(model, df):\n",
    "    tokenizer = AutoTokenizer.from_pretrained(model, use_auth_token=True, use_fast=True, trust_remote_code=True)\n",
    "    sample_length = {}\n",
    "    \n",
    "    for index, row in df.iterrows():\n",
    "        output = tokenizer(\n",
    "            row.input_code,\n",
    "            padding=False,\n",
    "            add_special_tokens=False,\n",
    "        )\n",
    "        \n",
    "        sample_length[row.sample_id] = len(output.input_ids)\n",
    "        \n",
    "    return sample_length"
   ]
  },
  {
   "cell_type": "code",
   "execution_count": 21,
   "id": "5da46752",
   "metadata": {},
   "outputs": [],
   "source": [
    "def count_tokens_for_all_models(df, model_list):\n",
    "    models_results = []\n",
    "    \n",
    "    for model in model_list:\n",
    "        program_token_length_dict = count_tokens_for_model(model, df)\n",
    "        models_results.append(program_token_length_dict)\n",
    "        \n",
    "    return models_results\n",
    "    "
   ]
  },
  {
   "cell_type": "code",
   "execution_count": 37,
   "id": "dc1948fd",
   "metadata": {},
   "outputs": [],
   "source": [
    "def print_distribution(data, bin_size):\n",
    "\n",
    "    df = pd.DataFrame(data, columns=['Values'])\n",
    "\n",
    "    # Calculate bin edges with lower limit inclusive and higher limit exclusive\n",
    "    min_value = 0\n",
    "    max_value = max(df['Values']) + bin_size\n",
    "    bin_edges = range(min_value, max_value, bin_size)\n",
    "    bin_counts, _ = pd.cut(df['Values'], bins=bin_edges, include_lowest=True, right=False, retbins=False).value_counts().sort_index().values, bin_edges\n",
    "    total_count = sum(bin_counts)\n",
    "\n",
    "    # Calculate the percentage of each bin\n",
    "    percentages = [(count / total_count) * 100 for count in bin_counts]\n",
    "\n",
    "    # Display the distribution\n",
    "    print(\"Bin Edges\\tFrequency\\tPercentage\")\n",
    "    for i in range(len(bin_edges) - 1):\n",
    "        print(f\"{bin_edges[i]}-{bin_edges[i+1]-1}\\t{bin_counts[i]}\\t\\t{percentages[i]:.2f}%\")\n"
   ]
  },
  {
   "cell_type": "markdown",
   "id": "62c0b73f",
   "metadata": {},
   "source": [
    "### Process the original dataset "
   ]
  },
  {
   "cell_type": "code",
   "execution_count": 23,
   "id": "5e6932b8",
   "metadata": {},
   "outputs": [
    {
     "name": "stderr",
     "output_type": "stream",
     "text": [
      "/home/jovyan/conda-envs/pt21/lib/python3.11/site-packages/transformers/models/auto/tokenization_auto.py:690: FutureWarning: The `use_auth_token` argument is deprecated and will be removed in v5 of Transformers. Please use `token` instead.\n",
      "  warnings.warn(\n",
      "Token indices sequence length is longer than the specified maximum sequence length for this model (9422 > 8192). Running this sequence through the model will result in indexing errors\n",
      "Token indices sequence length is longer than the specified maximum sequence length for this model (9422 > 8192). Running this sequence through the model will result in indexing errors\n",
      "Special tokens have been added in the vocabulary, make sure the associated word embeddings are fine-tuned or trained.\n",
      "Special tokens have been added in the vocabulary, make sure the associated word embeddings are fine-tuned or trained.\n"
     ]
    }
   ],
   "source": [
    "models_results = count_tokens_for_all_models(original_df, model_list)"
   ]
  },
  {
   "cell_type": "markdown",
   "id": "1d5d092a",
   "metadata": {},
   "source": [
    "### Examine the distribution before-cutoff"
   ]
  },
  {
   "cell_type": "code",
   "execution_count": 24,
   "id": "e1268048",
   "metadata": {},
   "outputs": [
    {
     "name": "stdout",
     "output_type": "stream",
     "text": [
      "44000\n"
     ]
    }
   ],
   "source": [
    "all_data_points = [value for samples_length in models_results for value in samples_length.values()]\n",
    "print(len(all_data_points))"
   ]
  },
  {
   "cell_type": "code",
   "execution_count": 25,
   "id": "d60ee403",
   "metadata": {},
   "outputs": [
    {
     "name": "stdout",
     "output_type": "stream",
     "text": [
      "Bin Edges\tFrequency\tPercentage\n",
      "0-1023\t40248\t\t91.47%\n",
      "1024-2047\t2148\t\t4.88%\n",
      "2048-3071\t676\t\t1.54%\n",
      "3072-4095\t504\t\t1.15%\n",
      "4096-5119\t132\t\t0.30%\n",
      "5120-6143\t72\t\t0.16%\n",
      "6144-7167\t16\t\t0.04%\n",
      "7168-8191\t80\t\t0.18%\n",
      "8192-9215\t36\t\t0.08%\n",
      "9216-10239\t44\t\t0.10%\n",
      "10240-11263\t0\t\t0.00%\n",
      "11264-12287\t0\t\t0.00%\n",
      "12288-13311\t4\t\t0.01%\n",
      "13312-14335\t40\t\t0.09%\n"
     ]
    }
   ],
   "source": [
    "bin_size = 1024\n",
    "print_distribution(all_data_points, bin_size)"
   ]
  },
  {
   "cell_type": "code",
   "execution_count": 26,
   "id": "fdbd0516",
   "metadata": {},
   "outputs": [],
   "source": [
    "cutoff = 3072\n",
    "df = keep_samples_below_cutoff(original_df, models_results, cutoff)"
   ]
  },
  {
   "cell_type": "code",
   "execution_count": 27,
   "id": "f6010bb1",
   "metadata": {},
   "outputs": [
    {
     "data": {
      "text/plain": [
       "(3912, 6)"
      ]
     },
     "execution_count": 27,
     "metadata": {},
     "output_type": "execute_result"
    }
   ],
   "source": [
    "df.shape"
   ]
  },
  {
   "cell_type": "code",
   "execution_count": 28,
   "id": "7c739757",
   "metadata": {},
   "outputs": [
    {
     "data": {
      "text/html": [
       "<div>\n",
       "<style scoped>\n",
       "    .dataframe tbody tr th:only-of-type {\n",
       "        vertical-align: middle;\n",
       "    }\n",
       "\n",
       "    .dataframe tbody tr th {\n",
       "        vertical-align: top;\n",
       "    }\n",
       "\n",
       "    .dataframe thead th {\n",
       "        text-align: right;\n",
       "    }\n",
       "</style>\n",
       "<table border=\"1\" class=\"dataframe\">\n",
       "  <thead>\n",
       "    <tr style=\"text-align: right;\">\n",
       "      <th></th>\n",
       "      <th>sample_id</th>\n",
       "      <th>input_code</th>\n",
       "      <th>input_lang</th>\n",
       "      <th>desired_output_lang</th>\n",
       "      <th>test_case_input_data</th>\n",
       "      <th>test_case_expected_output</th>\n",
       "    </tr>\n",
       "  </thead>\n",
       "  <tbody>\n",
       "    <tr>\n",
       "      <th>0</th>\n",
       "      <td>58618</td>\n",
       "      <td>#include &lt;iostream&gt;\\n#include &lt;cstdio&gt;\\n\\nusin...</td>\n",
       "      <td>C++</td>\n",
       "      <td>Java</td>\n",
       "      <td>8 10\\n</td>\n",
       "      <td>00000000000000000000000000001000\\n000000000000...</td>\n",
       "    </tr>\n",
       "    <tr>\n",
       "      <th>1</th>\n",
       "      <td>58619</td>\n",
       "      <td>#include &lt;iostream&gt;\\n#include &lt;vector&gt;\\n\\nusin...</td>\n",
       "      <td>C++</td>\n",
       "      <td>Java</td>\n",
       "      <td>3 6\\n3 4 5\\n</td>\n",
       "      <td>2\\n</td>\n",
       "    </tr>\n",
       "    <tr>\n",
       "      <th>2</th>\n",
       "      <td>58620</td>\n",
       "      <td>#include &lt;iostream&gt;\\n#include&lt;algorithm&gt;\\n#inc...</td>\n",
       "      <td>C++</td>\n",
       "      <td>Java</td>\n",
       "      <td>3\\n10 2 5\\n6 3 4\\n</td>\n",
       "      <td>5\\n</td>\n",
       "    </tr>\n",
       "    <tr>\n",
       "      <th>3</th>\n",
       "      <td>58621</td>\n",
       "      <td>#include&lt;iostream&gt;\\n#include&lt;iomanip&gt;\\n#includ...</td>\n",
       "      <td>C++</td>\n",
       "      <td>Java</td>\n",
       "      <td>10\\n</td>\n",
       "      <td>1\\n2\\n3\\n4\\n5\\n6\\n7\\n8\\n9\\n19\\n</td>\n",
       "    </tr>\n",
       "    <tr>\n",
       "      <th>4</th>\n",
       "      <td>58622</td>\n",
       "      <td>#include &lt;iostream&gt;\\n#include &lt;algorithm&gt;\\nusi...</td>\n",
       "      <td>C++</td>\n",
       "      <td>Java</td>\n",
       "      <td>4\\nwest\\neast\\nwait\\n</td>\n",
       "      <td>3\\n</td>\n",
       "    </tr>\n",
       "  </tbody>\n",
       "</table>\n",
       "</div>"
      ],
      "text/plain": [
       "   sample_id                                         input_code input_lang  \\\n",
       "0      58618  #include <iostream>\\n#include <cstdio>\\n\\nusin...        C++   \n",
       "1      58619  #include <iostream>\\n#include <vector>\\n\\nusin...        C++   \n",
       "2      58620  #include <iostream>\\n#include<algorithm>\\n#inc...        C++   \n",
       "3      58621  #include<iostream>\\n#include<iomanip>\\n#includ...        C++   \n",
       "4      58622  #include <iostream>\\n#include <algorithm>\\nusi...        C++   \n",
       "\n",
       "  desired_output_lang   test_case_input_data  \\\n",
       "0                Java                 8 10\\n   \n",
       "1                Java           3 6\\n3 4 5\\n   \n",
       "2                Java     3\\n10 2 5\\n6 3 4\\n   \n",
       "3                Java                   10\\n   \n",
       "4                Java  4\\nwest\\neast\\nwait\\n   \n",
       "\n",
       "                           test_case_expected_output  \n",
       "0  00000000000000000000000000001000\\n000000000000...  \n",
       "1                                                2\\n  \n",
       "2                                                5\\n  \n",
       "3                    1\\n2\\n3\\n4\\n5\\n6\\n7\\n8\\n9\\n19\\n  \n",
       "4                                                3\\n  "
      ]
     },
     "execution_count": 28,
     "metadata": {},
     "output_type": "execute_result"
    }
   ],
   "source": [
    "df.head()"
   ]
  },
  {
   "cell_type": "markdown",
   "id": "d300636d",
   "metadata": {},
   "source": [
    "After the cut-off there are 3,912 samples. Then, we balance the dataset by random sampling 191 samples per input-output language combination\n"
   ]
  },
  {
   "cell_type": "markdown",
   "id": "4bd2f9dc",
   "metadata": {},
   "source": [
    "### Balance the dataset"
   ]
  },
  {
   "cell_type": "code",
   "execution_count": 29,
   "id": "9705a191",
   "metadata": {},
   "outputs": [],
   "source": [
    "def sample_group(group):\n",
    "    return group.sample(min(len(group), 191), replace=False, random_state=1)"
   ]
  },
  {
   "cell_type": "code",
   "execution_count": 30,
   "id": "e44b77c4",
   "metadata": {},
   "outputs": [],
   "source": [
    "sampled_df = df.groupby(['input_lang', 'desired_output_lang']).apply(sample_group).reset_index(drop=True)"
   ]
  },
  {
   "cell_type": "code",
   "execution_count": 31,
   "id": "3a8ec8e9",
   "metadata": {},
   "outputs": [
    {
     "data": {
      "text/plain": [
       "(3820, 6)"
      ]
     },
     "execution_count": 31,
     "metadata": {},
     "output_type": "execute_result"
    }
   ],
   "source": [
    "sampled_df.shape"
   ]
  },
  {
   "cell_type": "markdown",
   "id": "1fc1d9e5",
   "metadata": {},
   "source": [
    "> **Note**: Please note that ```sampled_df``` above does not use the same random seed that we used in the study. Therefore, the distribution of ```sampled_df``` could be different from ```dataset_after_processing.csv```. The provided balanced dataset ```dataset_after_processing.csv``` should be used as input when replicating next sections for consistency, and not the generated dataset above. Thank you."
   ]
  },
  {
   "cell_type": "markdown",
   "id": "fca8a195",
   "metadata": {},
   "source": [
    "### Explore the distribution after the dataset is balanced"
   ]
  },
  {
   "cell_type": "code",
   "execution_count": 32,
   "id": "7d490dca",
   "metadata": {},
   "outputs": [],
   "source": [
    "#This is used for reference\n",
    "reference_df = pd.read_csv('./dataset_after_processing.csv')"
   ]
  },
  {
   "cell_type": "code",
   "execution_count": 33,
   "id": "eefb653f",
   "metadata": {},
   "outputs": [
    {
     "data": {
      "text/plain": [
       "(3820, 6)"
      ]
     },
     "execution_count": 33,
     "metadata": {},
     "output_type": "execute_result"
    }
   ],
   "source": [
    "reference_df.shape"
   ]
  },
  {
   "cell_type": "code",
   "execution_count": 34,
   "id": "219ccd97",
   "metadata": {},
   "outputs": [
    {
     "name": "stderr",
     "output_type": "stream",
     "text": [
      "/home/jovyan/conda-envs/pt21/lib/python3.11/site-packages/transformers/models/auto/tokenization_auto.py:690: FutureWarning: The `use_auth_token` argument is deprecated and will be removed in v5 of Transformers. Please use `token` instead.\n",
      "  warnings.warn(\n",
      "Special tokens have been added in the vocabulary, make sure the associated word embeddings are fine-tuned or trained.\n",
      "Special tokens have been added in the vocabulary, make sure the associated word embeddings are fine-tuned or trained.\n"
     ]
    }
   ],
   "source": [
    "reference_models_results = count_tokens_for_all_models(reference_df, model_list)"
   ]
  },
  {
   "cell_type": "code",
   "execution_count": 35,
   "id": "27d4ff60",
   "metadata": {},
   "outputs": [
    {
     "name": "stdout",
     "output_type": "stream",
     "text": [
      "42020\n"
     ]
    }
   ],
   "source": [
    "reference_data_points = [value for samples_length in reference_models_results for value in samples_length.values()]\n",
    "print(len(reference_data_points))"
   ]
  },
  {
   "cell_type": "code",
   "execution_count": 38,
   "id": "ac998379",
   "metadata": {},
   "outputs": [
    {
     "name": "stdout",
     "output_type": "stream",
     "text": [
      "Bin Edges\tFrequency\tPercentage\n",
      "0-127\t13603\t\t32.37%\n",
      "128-255\t11527\t\t27.43%\n",
      "256-383\t5589\t\t13.30%\n",
      "384-511\t3288\t\t7.82%\n",
      "512-639\t1979\t\t4.71%\n",
      "640-767\t1537\t\t3.66%\n",
      "768-895\t1138\t\t2.71%\n",
      "896-1023\t627\t\t1.49%\n",
      "1024-1151\t547\t\t1.30%\n",
      "1152-1279\t282\t\t0.67%\n",
      "1280-1407\t572\t\t1.36%\n",
      "1408-1535\t164\t\t0.39%\n",
      "1536-1663\t212\t\t0.50%\n",
      "1664-1791\t56\t\t0.13%\n",
      "1792-1919\t176\t\t0.42%\n",
      "1920-2047\t111\t\t0.26%\n",
      "2048-2175\t88\t\t0.21%\n",
      "2176-2303\t185\t\t0.44%\n",
      "2304-2431\t48\t\t0.11%\n",
      "2432-2559\t136\t\t0.32%\n",
      "2560-2687\t47\t\t0.11%\n",
      "2688-2815\t72\t\t0.17%\n",
      "2816-2943\t36\t\t0.09%\n"
     ]
    }
   ],
   "source": [
    "bin_size = 128\n",
    "print_distribution(reference_data_points, bin_size)"
   ]
  }
 ],
 "metadata": {
  "kernelspec": {
   "display_name": "Python [conda env:pt21]",
   "language": "python",
   "name": "conda-env-pt21-py"
  },
  "language_info": {
   "codemirror_mode": {
    "name": "ipython",
    "version": 3
   },
   "file_extension": ".py",
   "mimetype": "text/x-python",
   "name": "python",
   "nbconvert_exporter": "python",
   "pygments_lexer": "ipython3",
   "version": "3.11.5"
  }
 },
 "nbformat": 4,
 "nbformat_minor": 5
}
